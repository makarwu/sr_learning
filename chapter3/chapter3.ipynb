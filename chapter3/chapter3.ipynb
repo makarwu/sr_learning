{
 "cells": [
  {
   "cell_type": "markdown",
   "id": "76c94037-e63a-4584-8700-782212fbc50a",
   "metadata": {},
   "source": [
    "### Attention Mechanisms - The Engine of LLMs\n",
    "- Through an attention mechanism, the text-generating decoder segment of the network is capable of selectively accessing all input tokens, implying that certain input tokens hold more significance than others in the generation of a specific output token:\n",
    "- Self-attention in transformers is a technique designed to enhance input representations by enabling each position in a sequence to engage with and determine the relevance of every other position within the same sequence."
   ]
  },
  {
   "cell_type": "code",
   "execution_count": 1,
   "id": "cd2ea013-fd0c-42fe-b5fd-fb76cbfc1ff7",
   "metadata": {},
   "outputs": [],
   "source": [
    "import torch\n",
    "\n",
    "inputs = torch.tensor(\n",
    "  [[0.43, 0.15, 0.89], # Your     (x^1)\n",
    "   [0.55, 0.87, 0.66], # journey  (x^2)\n",
    "   [0.57, 0.85, 0.64], # starts   (x^3)\n",
    "   [0.22, 0.58, 0.33], # with     (x^4)\n",
    "   [0.77, 0.25, 0.10], # one      (x^5)\n",
    "   [0.05, 0.80, 0.55]] # step     (x^6)\n",
    ")"
   ]
  },
  {
   "cell_type": "markdown",
   "id": "04cede2a-e29c-4e1b-a2cc-139bfa4cd4ce",
   "metadata": {},
   "source": [
    "- (1) let's compute the context vector $z$, with the attention scores $w$."
   ]
  },
  {
   "cell_type": "code",
   "execution_count": 2,
   "id": "9ea47628-00f1-47a1-9ee4-7db5798dd6e3",
   "metadata": {},
   "outputs": [
    {
     "name": "stdout",
     "output_type": "stream",
     "text": [
      "tensor([0.9544, 1.4950, 1.4754, 0.8434, 0.7070, 1.0865])\n"
     ]
    }
   ],
   "source": [
    "query = inputs[1] # 2nd input token is the query\n",
    "\n",
    "attn_scores_2 = torch.empty(inputs.shape[0])\n",
    "for i, x_i in enumerate(inputs):\n",
    "    attn_scores_2[i] = torch.dot(x_i, query) # dot product (transpose note necessary here)\n",
    "\n",
    "print(attn_scores_2)"
   ]
  },
  {
   "cell_type": "markdown",
   "id": "b5cb4def-b56f-4bd7-948c-924c24911023",
   "metadata": {},
   "source": [
    "- Side note: a dot product is essentially a shorthand for multiplying two vectors elements-wise and summing the resulting products"
   ]
  },
  {
   "cell_type": "code",
   "execution_count": 3,
   "id": "61f044db-bffa-4495-9d40-80e3056b4df0",
   "metadata": {},
   "outputs": [
    {
     "name": "stdout",
     "output_type": "stream",
     "text": [
      "tensor(0.9544)\n",
      "tensor(0.9544)\n"
     ]
    }
   ],
   "source": [
    "res = 0\n",
    "for idx, elements in enumerate(inputs[0]):\n",
    "    res += inputs[0][idx] * query[idx]\n",
    "\n",
    "print(res)\n",
    "print(torch.dot(inputs[0], query))"
   ]
  },
  {
   "cell_type": "markdown",
   "id": "839c623a-0b98-4e0c-ba87-58e48372e984",
   "metadata": {},
   "source": [
    "- (2) Now, we have to normalize the unnormalized attention scores $w$ so that they sum up to 1"
   ]
  },
  {
   "cell_type": "code",
   "execution_count": 4,
   "id": "8b2191c7-3650-4321-b10a-0e6f8cb67dc2",
   "metadata": {},
   "outputs": [
    {
     "name": "stdout",
     "output_type": "stream",
     "text": [
      "Attention weights: tensor([0.1455, 0.2278, 0.2249, 0.1285, 0.1077, 0.1656])\n",
      "Sum: tensor(1.0000)\n"
     ]
    }
   ],
   "source": [
    "attn_weights_2_tmp = attn_scores_2 / attn_scores_2.sum()\n",
    "\n",
    "print(\"Attention weights:\", attn_weights_2_tmp)\n",
    "print(\"Sum:\", attn_weights_2_tmp.sum())"
   ]
  },
  {
   "cell_type": "markdown",
   "id": "eceddac3-f02b-433d-ae5a-c47d5d4533d7",
   "metadata": {},
   "source": [
    "- However, in practice, using the softmax function for normalization, which is better at handling extreme values and has more desirable gradient properties during training, is common and recommended."
   ]
  },
  {
   "cell_type": "code",
   "execution_count": 5,
   "id": "eb3168ac-02e1-4652-8975-e79cae5d1daf",
   "metadata": {},
   "outputs": [
    {
     "name": "stdout",
     "output_type": "stream",
     "text": [
      "Attention weights: tensor([0.1385, 0.2379, 0.2333, 0.1240, 0.1082, 0.1581])\n",
      "Sum: tensor(1.)\n"
     ]
    }
   ],
   "source": [
    "def softmax_naive(x):\n",
    "    return torch.exp(x) / torch.exp(x).sum(dim=0)\n",
    "\n",
    "attn_weights_2_naive = softmax_naive(attn_scores_2)\n",
    "print(\"Attention weights:\", attn_weights_2_naive)\n",
    "print(\"Sum:\", attn_weights_2_naive.sum())"
   ]
  },
  {
   "cell_type": "markdown",
   "id": "52623f83-61cc-4d8d-bea2-5511d8c981e1",
   "metadata": {},
   "source": [
    "- The naive implementation above can suffer from numerical instability issues for large or small input values due to overflow and underflow issues.\n",
    "- Hence, in practice, it's recommended to use the PyTorch implementation of softmax instead, which has been highly optimized for performance"
   ]
  },
  {
   "cell_type": "code",
   "execution_count": 6,
   "id": "0eb7fc57-3087-4dc0-bc4a-73d163a9a490",
   "metadata": {},
   "outputs": [
    {
     "name": "stdout",
     "output_type": "stream",
     "text": [
      "Attention weights: tensor([0.1385, 0.2379, 0.2333, 0.1240, 0.1082, 0.1581])\n",
      "Sum: tensor(1.)\n"
     ]
    }
   ],
   "source": [
    "attn_weights_2 = torch.softmax(attn_scores_2, dim=0)\n",
    "\n",
    "print(\"Attention weights:\", attn_weights_2)\n",
    "print(\"Sum:\", attn_weights_2.sum())"
   ]
  },
  {
   "cell_type": "markdown",
   "id": "0560dfc7-dab7-4491-99c7-e876dea4bf68",
   "metadata": {},
   "source": [
    "- (3) Compute the context vector $z^\\text{2}$ by multiplying the embedded input tokens, $x^\\text{i}$ with the attention weights and sum the resulting vectors"
   ]
  },
  {
   "cell_type": "code",
   "execution_count": 7,
   "id": "9ca468a9-ed18-4ccc-b912-39f698869208",
   "metadata": {},
   "outputs": [
    {
     "name": "stdout",
     "output_type": "stream",
     "text": [
      "tensor([0.4419, 0.6515, 0.5683])\n"
     ]
    }
   ],
   "source": [
    "query = inputs[1] # 2nd input token is the query\n",
    "\n",
    "context_vec_2 = torch.zeros(query.shape)\n",
    "for i, x_i in enumerate(inputs):\n",
    "    context_vec_2 += attn_weights_2[i] * x_i\n",
    "\n",
    "print(context_vec_2)"
   ]
  },
  {
   "cell_type": "markdown",
   "id": "093b44d7-7c8e-4f09-9e9b-f5a85f464336",
   "metadata": {},
   "source": [
    "### Computing attention weights for all input tokens\n",
    "- Now, we have to generalize the mechanism to all input sequence tokens:\n",
    "- Above, we computed the attention weights and context vector for input 2"
   ]
  },
  {
   "cell_type": "code",
   "execution_count": 8,
   "id": "871c5c64-3cec-4716-a270-15cb35accc44",
   "metadata": {},
   "outputs": [
    {
     "name": "stdout",
     "output_type": "stream",
     "text": [
      "tensor([[0.9995, 0.9544, 0.9422, 0.4753, 0.4576, 0.6310],\n",
      "        [0.9544, 1.4950, 1.4754, 0.8434, 0.7070, 1.0865],\n",
      "        [0.9422, 1.4754, 1.4570, 0.8296, 0.7154, 1.0605],\n",
      "        [0.4753, 0.8434, 0.8296, 0.4937, 0.3474, 0.6565],\n",
      "        [0.4576, 0.7070, 0.7154, 0.3474, 0.6654, 0.2935],\n",
      "        [0.6310, 1.0865, 1.0605, 0.6565, 0.2935, 0.9450]])\n"
     ]
    }
   ],
   "source": [
    "attn_scores = torch.empty(6, 6)\n",
    "\n",
    "for i, x_i in enumerate(inputs):\n",
    "    for j, x_j in enumerate(inputs):\n",
    "        attn_scores[i, j] = torch.dot(x_i, x_j)\n",
    "\n",
    "print(attn_scores)"
   ]
  },
  {
   "cell_type": "markdown",
   "id": "d9ab8271-b7d2-4e18-8fcb-82d3147a2434",
   "metadata": {},
   "source": [
    "- We can achieve the same as above more efficiently via matrix multiplication:"
   ]
  },
  {
   "cell_type": "code",
   "execution_count": 14,
   "id": "87ba8601-6626-497e-9218-802969025881",
   "metadata": {},
   "outputs": [
    {
     "name": "stdout",
     "output_type": "stream",
     "text": [
      "tensor([[0.9995, 0.9544, 0.9422, 0.4753, 0.4576, 0.6310],\n",
      "        [0.9544, 1.4950, 1.4754, 0.8434, 0.7070, 1.0865],\n",
      "        [0.9422, 1.4754, 1.4570, 0.8296, 0.7154, 1.0605],\n",
      "        [0.4753, 0.8434, 0.8296, 0.4937, 0.3474, 0.6565],\n",
      "        [0.4576, 0.7070, 0.7154, 0.3474, 0.6654, 0.2935],\n",
      "        [0.6310, 1.0865, 1.0605, 0.6565, 0.2935, 0.9450]])\n"
     ]
    }
   ],
   "source": [
    "attn_scores2 = inputs @ inputs.T\n",
    "print(attn_scores2)"
   ]
  },
  {
   "cell_type": "code",
   "execution_count": 15,
   "id": "0a4e5447-a95e-4e52-8302-69a9a83e7792",
   "metadata": {},
   "outputs": [
    {
     "data": {
      "text/plain": [
       "True"
      ]
     },
     "execution_count": 15,
     "metadata": {},
     "output_type": "execute_result"
    }
   ],
   "source": [
    "torch.allclose(attn_scores, attn_scores2)"
   ]
  },
  {
   "cell_type": "markdown",
   "id": "05408b1a-9542-4869-8724-fd9f0ba6ea77",
   "metadata": {},
   "source": [
    "- Now, we normalize each row so that the values in each row sum to 1:"
   ]
  },
  {
   "cell_type": "code",
   "execution_count": 17,
   "id": "3ef29c5a-4d6f-44f6-868c-eec6115038c1",
   "metadata": {},
   "outputs": [
    {
     "data": {
      "text/plain": [
       "tensor([[0.2098, 0.2006, 0.1981, 0.1242, 0.1220, 0.1452],\n",
       "        [0.1385, 0.2379, 0.2333, 0.1240, 0.1082, 0.1581],\n",
       "        [0.1390, 0.2369, 0.2326, 0.1242, 0.1108, 0.1565],\n",
       "        [0.1435, 0.2074, 0.2046, 0.1462, 0.1263, 0.1720],\n",
       "        [0.1526, 0.1958, 0.1975, 0.1367, 0.1879, 0.1295],\n",
       "        [0.1385, 0.2184, 0.2128, 0.1420, 0.0988, 0.1896]])"
      ]
     },
     "execution_count": 17,
     "metadata": {},
     "output_type": "execute_result"
    }
   ],
   "source": [
    "attn_weights = torch.softmax(attn_scores, dim=-1)\n",
    "attn_weights"
   ]
  },
  {
   "cell_type": "code",
   "execution_count": 19,
   "id": "8f2864dc-867e-4e49-a887-783ad5526a6e",
   "metadata": {},
   "outputs": [
    {
     "data": {
      "text/plain": [
       "0.9999"
      ]
     },
     "execution_count": 19,
     "metadata": {},
     "output_type": "execute_result"
    }
   ],
   "source": [
    "# quick verification\n",
    "row_2_sum = sum([0.2098, 0.2006, 0.1981, 0.1242, 0.1220, 0.1452])\n",
    "row_2_sum"
   ]
  },
  {
   "cell_type": "code",
   "execution_count": 20,
   "id": "7d9fd20b-af77-40fc-9720-70c3b66edcf1",
   "metadata": {},
   "outputs": [
    {
     "data": {
      "text/plain": [
       "tensor([1.0000, 1.0000, 1.0000, 1.0000, 1.0000, 1.0000])"
      ]
     },
     "execution_count": 20,
     "metadata": {},
     "output_type": "execute_result"
    }
   ],
   "source": [
    "attn_weights.sum(dim=-1)"
   ]
  },
  {
   "cell_type": "markdown",
   "id": "3e590791-7167-4032-839c-ea96db147174",
   "metadata": {},
   "source": [
    "- Apply previous step 3 to compute all context vectors"
   ]
  },
  {
   "cell_type": "code",
   "execution_count": 21,
   "id": "3a970386-61b6-4b4a-b691-0dcdfca34fbf",
   "metadata": {},
   "outputs": [
    {
     "data": {
      "text/plain": [
       "tensor([[0.4421, 0.5931, 0.5790],\n",
       "        [0.4419, 0.6515, 0.5683],\n",
       "        [0.4431, 0.6496, 0.5671],\n",
       "        [0.4304, 0.6298, 0.5510],\n",
       "        [0.4671, 0.5910, 0.5266],\n",
       "        [0.4177, 0.6503, 0.5645]])"
      ]
     },
     "execution_count": 21,
     "metadata": {},
     "output_type": "execute_result"
    }
   ],
   "source": [
    "all_context_vecs = attn_weights @ inputs\n",
    "all_context_vecs"
   ]
  },
  {
   "cell_type": "markdown",
   "id": "50ac2f5e-6d9b-44d5-8b21-ffca8ac921c6",
   "metadata": {},
   "source": [
    "- As a sanity check, the previously computed context vector can be found in the 2nd row in above:"
   ]
  },
  {
   "cell_type": "code",
   "execution_count": 23,
   "id": "6449cf52-afdf-42c5-9113-cd3c89d71d77",
   "metadata": {},
   "outputs": [
    {
     "data": {
      "text/plain": [
       "True"
      ]
     },
     "execution_count": 23,
     "metadata": {},
     "output_type": "execute_result"
    }
   ],
   "source": [
    "torch.allclose(all_context_vecs[1], context_vec_2)"
   ]
  },
  {
   "cell_type": "markdown",
   "id": "bd8c010a-1355-4de9-9d18-6331f584ba4f",
   "metadata": {},
   "source": [
    "### Implementing self-attention with trainable weights\n",
    "- We will start by introducing the three training weight matrices $W_q$, $W_k$ and $W_v$\n",
    "- The three matrices are used to project the embedded input tokens, $x^\\text{(i)}$, into query, key, and value vectors via matrix multiplication\n",
    "    - Query vector: $q^i = W_qx^i$\n",
    "    - Key vector: $k^i = W_kx^i$\n",
    "    - Value vector: $v^i = W_vx^i$\n",
    "- The embedding dimensions of the input $x$ and the query vector $q$ can be the same or different, depending on the model's design and specific implementation"
   ]
  },
  {
   "cell_type": "code",
   "execution_count": 24,
   "id": "e592cffa-6361-4aa6-965e-ec6e5ece7d29",
   "metadata": {},
   "outputs": [],
   "source": [
    "# here we choose different output dimensions, but usually they are the same\n",
    "\n",
    "x_2 = inputs[1] # second input element\n",
    "d_in = inputs.shape[1] # the input embedding size, d=3\n",
    "d_out = 2 # the output embedding size, d=2"
   ]
  },
  {
   "cell_type": "code",
   "execution_count": null,
   "id": "e4615dce-64fa-47fd-91c2-3275f8934f8a",
   "metadata": {},
   "outputs": [],
   "source": []
  }
 ],
 "metadata": {
  "kernelspec": {
   "display_name": "Python 3 (ipykernel)",
   "language": "python",
   "name": "python3"
  },
  "language_info": {
   "codemirror_mode": {
    "name": "ipython",
    "version": 3
   },
   "file_extension": ".py",
   "mimetype": "text/x-python",
   "name": "python",
   "nbconvert_exporter": "python",
   "pygments_lexer": "ipython3",
   "version": "3.9.18"
  }
 },
 "nbformat": 4,
 "nbformat_minor": 5
}
