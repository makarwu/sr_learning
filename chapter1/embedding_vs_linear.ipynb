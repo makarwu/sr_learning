{
 "cells": [
  {
   "cell_type": "code",
   "execution_count": 1,
   "id": "a7cc2625-a49d-46d7-8f08-8b626ab5fea7",
   "metadata": {},
   "outputs": [],
   "source": [
    "import torch"
   ]
  },
  {
   "cell_type": "markdown",
   "id": "b50e71cf-8d17-47fe-8048-61b63b9c88de",
   "metadata": {},
   "source": [
    "### Understanding the difference between Embedding and Linear Layers\n",
    "- Embedding Layers in PyTorch accomplish the same as linear layers that perform matrix multiplications; the reason we use embedding layers is computational efficiency\n",
    "- we will take a look at this relationship step by step"
   ]
  },
  {
   "cell_type": "markdown",
   "id": "4032292a-5829-49d6-96cc-c884eaa3dc86",
   "metadata": {},
   "source": [
    "### 1. Using nn.Embedding"
   ]
  },
  {
   "cell_type": "code",
   "execution_count": 2,
   "id": "4f9a932d-9062-4da2-958c-e7fad95b9290",
   "metadata": {},
   "outputs": [],
   "source": [
    "# Suppose we have the following 3 examples\n",
    "# which may represent token IDs in a LLM context\n",
    "idx = torch.tensor([2, 3, 1])\n",
    "\n",
    "# The number of rows in the embedding matrix can be determined\n",
    "# by obtaining the largest token ID + 1\n",
    "# If the highest token ID is 3, then we want 4 rows, for the possible token IDs 0, 1, 2, 3\n",
    "num_idx = max(idx)+1\n",
    "\n",
    "# The desired embedding dimension is a hyperparameter\n",
    "out_dim = 5"
   ]
  },
  {
   "cell_type": "code",
   "execution_count": 3,
   "id": "0fb02367-6a23-4744-8e10-e56786ab8c8b",
   "metadata": {},
   "outputs": [
    {
     "data": {
      "text/plain": [
       "Parameter containing:\n",
       "tensor([[ 0.3374, -0.1778, -0.3035, -0.5880,  1.5810],\n",
       "        [ 1.3010,  1.2753, -0.2010, -0.1606, -0.4015],\n",
       "        [ 0.6957, -1.8061, -1.1589,  0.3255, -0.6315],\n",
       "        [-2.8400, -0.7849, -1.4096, -0.4076,  0.7953]], requires_grad=True)"
      ]
     },
     "execution_count": 3,
     "metadata": {},
     "output_type": "execute_result"
    }
   ],
   "source": [
    "# Let's implement a simple embedding layer\n",
    "torch.manual_seed(123)\n",
    "\n",
    "embedding = torch.nn.Embedding(num_idx, out_dim)\n",
    "embedding.weight"
   ]
  },
  {
   "cell_type": "markdown",
   "id": "17a0757f-fb70-4e63-9aaf-6dafc395c46b",
   "metadata": {},
   "source": [
    "- We can then use the embedding layers to obtain the vector representation of a training example with ID 1:"
   ]
  },
  {
   "cell_type": "code",
   "execution_count": 5,
   "id": "3099285b-da23-4c0c-982a-f19aadf98b40",
   "metadata": {},
   "outputs": [
    {
     "data": {
      "text/plain": [
       "tensor([[ 1.3010,  1.2753, -0.2010, -0.1606, -0.4015]],\n",
       "       grad_fn=<EmbeddingBackward0>)"
      ]
     },
     "execution_count": 5,
     "metadata": {},
     "output_type": "execute_result"
    }
   ],
   "source": [
    "embedding(torch.tensor([1]))"
   ]
  },
  {
   "cell_type": "code",
   "execution_count": 6,
   "id": "8462e836-bfcd-4bf3-a522-ac19b99be02f",
   "metadata": {},
   "outputs": [
    {
     "data": {
      "text/plain": [
       "tensor([[ 0.6957, -1.8061, -1.1589,  0.3255, -0.6315],\n",
       "        [-2.8400, -0.7849, -1.4096, -0.4076,  0.7953],\n",
       "        [ 1.3010,  1.2753, -0.2010, -0.1606, -0.4015]],\n",
       "       grad_fn=<EmbeddingBackward0>)"
      ]
     },
     "execution_count": 6,
     "metadata": {},
     "output_type": "execute_result"
    }
   ],
   "source": [
    "idx = torch.tensor([2, 3, 1])\n",
    "embedding(idx)"
   ]
  },
  {
   "cell_type": "markdown",
   "id": "ec3cd22d-3806-4c8d-a733-1bfff2f1d9a2",
   "metadata": {},
   "source": [
    "### 2. Using nn.Linear\n",
    "- Now, we will demonstrate that the embedding layer above accomplishes exactly the same as nn.Embedding layer on a one-hot encoded representation in PyTorch\n",
    "- First, let's convert the token IDs into a one-hot representation"
   ]
  },
  {
   "cell_type": "code",
   "execution_count": 7,
   "id": "7f8c13c2-961e-436d-90bc-12cc82c4fa12",
   "metadata": {},
   "outputs": [
    {
     "data": {
      "text/plain": [
       "tensor([[0, 0, 1, 0],\n",
       "        [0, 0, 0, 1],\n",
       "        [0, 1, 0, 0]])"
      ]
     },
     "execution_count": 7,
     "metadata": {},
     "output_type": "execute_result"
    }
   ],
   "source": [
    "onehot = torch.nn.functional.one_hot(idx)\n",
    "onehot # remember: 2, 3, 1"
   ]
  },
  {
   "cell_type": "markdown",
   "id": "2f258dfa-f234-4c7c-ba45-06900ea9fc1b",
   "metadata": {},
   "source": [
    "- Next, we initialize a Linear layer, which caries out a matrix multiplication $XW^T$"
   ]
  },
  {
   "cell_type": "code",
   "execution_count": null,
   "id": "c2025752-3cc4-4eea-873a-b13064c479e4",
   "metadata": {},
   "outputs": [],
   "source": []
  }
 ],
 "metadata": {
  "kernelspec": {
   "display_name": "Python 3 (ipykernel)",
   "language": "python",
   "name": "python3"
  },
  "language_info": {
   "codemirror_mode": {
    "name": "ipython",
    "version": 3
   },
   "file_extension": ".py",
   "mimetype": "text/x-python",
   "name": "python",
   "nbconvert_exporter": "python",
   "pygments_lexer": "ipython3",
   "version": "3.9.18"
  }
 },
 "nbformat": 4,
 "nbformat_minor": 5
}
